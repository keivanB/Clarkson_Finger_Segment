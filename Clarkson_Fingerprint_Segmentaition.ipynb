{
  "cells": [
    {
      "cell_type": "markdown",
      "metadata": {
        "id": "view-in-github",
        "colab_type": "text"
      },
      "source": [
        "<a href=\"https://colab.research.google.com/github/keivanB/Clarkson_Finger_Segment/blob/main/Clarkson_Fingerprint_Segmentaition.ipynb\" target=\"_parent\"><img src=\"https://colab.research.google.com/assets/colab-badge.svg\" alt=\"Open In Colab\"/></a>"
      ]
    },
    {
      "cell_type": "code",
      "source": [
        "# CITER - Center for Identification Technology Research - Clarkson University - 2022 \n",
        "# In order to run the code with the provided test images, go to \"Runtime\" and select Run all\n",
        "# You can also upload your own test images here throught the browser and just change the \"input_img\" parameter to their address\n",
        "#for example: \"/content/my_own_test.image\""
      ],
      "metadata": {
        "id": "bY0VFgxxjfR1"
      },
      "execution_count": null,
      "outputs": []
    },
    {
      "cell_type": "code",
      "execution_count": null,
      "metadata": {
        "id": "qj2La6Kh4Bt8"
      },
      "outputs": [],
      "source": [
        "%tensorflow_version 1.x"
      ]
    },
    {
      "cell_type": "code",
      "execution_count": null,
      "metadata": {
        "id": "OHTxetOgTDKd"
      },
      "outputs": [],
      "source": [
        "!pip install 'h5py==2.10.0' --force-reinstall"
      ]
    },
    {
      "cell_type": "code",
      "source": [
        "!git clone https://github.com/keivanB/Clarkson_Finger_Segment"
      ],
      "metadata": {
        "id": "nZdkWKXMe3Af"
      },
      "execution_count": null,
      "outputs": []
    },
    {
      "cell_type": "code",
      "execution_count": null,
      "metadata": {
        "id": "TRg97h39nDGF"
      },
      "outputs": [],
      "source": [
        "!wget --load-cookies /tmp/cookies.txt \"https://docs.google.com/uc?export=download&confirm=$(wget --quiet --save-cookies /tmp/cookies.txt --keep-session-cookies --no-check-certificate 'https://docs.google.com/uc?export=download&id=1kw_W7WZJoXjH-eYylycOaUNJ7UN2k6pA' -O- | sed -rn 's/.*confirm=([0-9A-Za-z_]+).*/\\1\\n/p')&id=1kw_W7WZJoXjH-eYylycOaUNJ7UN2k6pA\" -O /content/Clarkson_Finger_Segment/trained.model/trained.CFSEG.h5 && rm -rf /tmp/cookies.txt"
      ]
    },
    {
      "cell_type": "code",
      "execution_count": null,
      "metadata": {
        "id": "bY_AKspI4wr_"
      },
      "outputs": [],
      "source": [
        "import os\n",
        "import sys\n",
        "sys.path.append('/content/Clarkson_Finger_Segment/helper') # locaition of the helper functions\n",
        "\n",
        "from keras.preprocessing.image import load_img\n",
        "from keras.preprocessing.image import img_to_array\n",
        "import matplotlib.pyplot as plt\n",
        "\n",
        "from config import Config\n",
        "import model as MaskRCNN\n",
        "import visualize\n",
        "import model as modellib, utils"
      ]
    },
    {
      "cell_type": "code",
      "execution_count": null,
      "metadata": {
        "id": "xRqEfDr75Qdi"
      },
      "outputs": [],
      "source": [
        "# helper functions\n",
        "class myMaskRCNNConfig(Config):\n",
        "    # give the configuration a recognizable name\n",
        "    NAME = \"MaskRCNN_config\"\n",
        " \n",
        "    # set the number of GPUs to use along with the number of images\n",
        "    # per GPU\n",
        "    GPU_COUNT = 1\n",
        "    IMAGES_PER_GPU = 1\n",
        " \n",
        "    # number of classes (we would normally add +1 for the background)\n",
        "    # kangaroo + BG\n",
        "    NUM_CLASSES = 1+10\n",
        "   \n",
        "    # Number of training steps per epoch\n",
        "    STEPS_PER_EPOCH = 8750 #(tatal train images 8750 divided by batch_size)\n",
        "    \n",
        "    # Learning rate\n",
        "    LEARNING_RATE=0.001\n",
        "    \n",
        "    # Skip detections with < 80% confidence\n",
        "    DETECTION_MIN_CONFIDENCE = 0.80\n",
        "    \n",
        "    # setting Max ground truth instances\n",
        "    MAX_GT_INSTANCES=10\n",
        "\n",
        "def get_ax(rows=1, cols=1, size=16):\n",
        "    _, ax = plt.subplots(rows, cols, figsize=(size*cols, size*rows))\n",
        "    return ax"
      ]
    },
    {
      "cell_type": "code",
      "execution_count": null,
      "metadata": {
        "id": "vr8wqVQy4xoo"
      },
      "outputs": [],
      "source": [
        "# setting the config for inference\n",
        "config = myMaskRCNNConfig()\n",
        "#config.display()"
      ]
    },
    {
      "cell_type": "code",
      "execution_count": null,
      "metadata": {
        "id": "rFnr2FkE3_2y"
      },
      "outputs": [],
      "source": [
        "#Loading the model in the inference mode\n",
        "model = modellib.MaskRCNN(mode=\"inference\", config=config, model_dir='./')\n",
        "# model = modellib.MaskRCNN(mode=\"inference\", config=config, model_dir='/content')\n",
        "model_path = '/content/Clarkson_Finger_Segment/trained.model/trained.CFSEG.h5' \n",
        "# loading the trained weights\n",
        "model.load_weights(model_path, by_name=True)\n"
      ]
    },
    {
      "cell_type": "code",
      "source": [
        "input_img = \"/content/Clarkson_Finger_Segment/test.image/Image_00_1_1.bmp\"\n",
        "\n",
        "image = load_img(input_img)\n",
        "image = img_to_array(image)\n",
        "class_names = ['BG', 'Right_Index', 'Right_Middle', 'Right_Ring', 'Right_Little', 'Left_Index', 'Left_Middle', 'Left_Ring', 'Left_Little', 'Right_Thumb', 'Left_Thumb']\n",
        "\n",
        "# Run object detection\n",
        "results = model.detect([image], verbose=1)\n",
        "\n",
        "r = results[0]\n",
        "print(r['class_ids'])\n",
        "visualize.display_instances(image, r['rois'], r['masks'], r['class_ids'], \n",
        "                            class_names, r['scores'],\n",
        "                            title=\"Predictions\", ax=get_ax(1))"
      ],
      "metadata": {
        "id": "RBPch4F-qiqZ"
      },
      "execution_count": null,
      "outputs": []
    },
    {
      "cell_type": "code",
      "source": [
        "input_img = \"/content/Clarkson_Finger_Segment/test.image/Image_00_1_2.bmp\"\n",
        "\n",
        "image = load_img(input_img)\n",
        "image = img_to_array(image)\n",
        "class_names = ['BG', 'Right_Index', 'Right_Middle', 'Right_Ring', 'Right_Little', 'Left_Index', 'Left_Middle', 'Left_Ring', 'Left_Little', 'Right_Thumb', 'Left_Thumb']\n",
        "\n",
        "# Run object detection\n",
        "results = model.detect([image], verbose=1)\n",
        "\n",
        "r = results[0]\n",
        "print(r['class_ids'])\n",
        "visualize.display_instances(image, r['rois'], r['masks'], r['class_ids'], \n",
        "                            class_names, r['scores'],\n",
        "                            title=\"Predictions\", ax=get_ax(1))"
      ],
      "metadata": {
        "id": "uh1eGf7Iqnt1"
      },
      "execution_count": null,
      "outputs": []
    },
    {
      "cell_type": "code",
      "execution_count": null,
      "metadata": {
        "id": "tOKF4sKYEbui"
      },
      "outputs": [],
      "source": [
        "input_img = \"/content/Clarkson_Finger_Segment/test.image/Image_00_2_1.bmp\"\n",
        "\n",
        "image = load_img(input_img)\n",
        "image = img_to_array(image)\n",
        "class_names = ['BG', 'Right_Index', 'Right_Middle', 'Right_Ring', 'Right_Little', 'Left_Index', 'Left_Middle', 'Left_Ring', 'Left_Little', 'Right_Thumb', 'Left_Thumb']\n",
        "\n",
        "# Run object detection\n",
        "results = model.detect([image], verbose=1)\n",
        "\n",
        "r = results[0]\n",
        "print(r['class_ids'])\n",
        "visualize.display_instances(image, r['rois'], r['masks'], r['class_ids'], \n",
        "                            class_names, r['scores'],\n",
        "                            title=\"Predictions\", ax=get_ax(1))"
      ]
    },
    {
      "cell_type": "code",
      "source": [
        "input_img = \"/content/Clarkson_Finger_Segment/test.image/Image_01_2_2.bmp\"\n",
        "\n",
        "image = load_img(input_img)\n",
        "image = img_to_array(image)\n",
        "class_names = ['BG', 'Right_Index', 'Right_Middle', 'Right_Ring', 'Right_Little', 'Left_Index', 'Left_Middle', 'Left_Ring', 'Left_Little', 'Right_Thumb', 'Left_Thumb']\n",
        "\n",
        "# Run object detection\n",
        "results = model.detect([image], verbose=1)\n",
        "\n",
        "r = results[0]\n",
        "print(r['class_ids'])\n",
        "visualize.display_instances(image, r['rois'], r['masks'], r['class_ids'], \n",
        "                            class_names, r['scores'],\n",
        "                            title=\"Predictions\", ax=get_ax(1))"
      ],
      "metadata": {
        "id": "oNJiV81aqsOO"
      },
      "execution_count": null,
      "outputs": []
    },
    {
      "cell_type": "code",
      "source": [
        "input_img = \"/content/Clarkson_Finger_Segment/test.image/Image_02_2_1.bmp\"\n",
        "\n",
        "image = load_img(input_img)\n",
        "image = img_to_array(image)\n",
        "class_names = ['BG', 'Right_Index', 'Right_Middle', 'Right_Ring', 'Right_Little', 'Left_Index', 'Left_Middle', 'Left_Ring', 'Left_Little', 'Right_Thumb', 'Left_Thumb']\n",
        "\n",
        "# Run object detection\n",
        "results = model.detect([image], verbose=1)\n",
        "\n",
        "r = results[0]\n",
        "print(r['class_ids'])\n",
        "visualize.display_instances(image, r['rois'], r['masks'], r['class_ids'], \n",
        "                            class_names, r['scores'],\n",
        "                            title=\"Predictions\", ax=get_ax(1))"
      ],
      "metadata": {
        "id": "9WyLwh5WjQu_"
      },
      "execution_count": null,
      "outputs": []
    }
  ],
  "metadata": {
    "accelerator": "GPU",
    "colab": {
      "collapsed_sections": [],
      "name": "Clarkson_Fingerprint_Segmentaition.ipynb",
      "provenance": [],
      "include_colab_link": true
    },
    "kernelspec": {
      "display_name": "Python 3",
      "name": "python3"
    },
    "language_info": {
      "name": "python"
    }
  },
  "nbformat": 4,
  "nbformat_minor": 0
}