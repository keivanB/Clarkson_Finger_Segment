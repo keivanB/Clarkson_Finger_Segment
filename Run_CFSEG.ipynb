{
 "cells": [
  {
   "cell_type": "code",
   "execution_count": null,
   "id": "1bfd6280",
   "metadata": {},
   "outputs": [],
   "source": [
    "import os \n",
    "from keras.preprocessing.image import load_img\n",
    "from keras.preprocessing.image import img_to_array\n",
    "from matplotlib import pyplot\n",
    "\n",
    "from helper.config import Config\n",
    "from helper  import model as MaskRCNN\n",
    "from helper import visualize\n",
    "from helper  import model as modellib, utils\n",
    "from helper  import visualize\n",
    "\n",
    "os.environ['TF_FORCE_GPU_ALLOW_GROWTH'] = 'true'"
   ]
  },
  {
   "cell_type": "code",
   "execution_count": null,
   "id": "8afbf784",
   "metadata": {},
   "outputs": [],
   "source": [
    "#inherting  from Config class\n",
    "\n",
    "class myMaskRCNNConfig(Config):\n",
    "    # give the configuration a recognizable name\n",
    "    NAME = \"MaskRCNN_config\"\n",
    " \n",
    "    # set the number of GPUs to use along with the number of images\n",
    "    # per GPU\n",
    "    GPU_COUNT = 1\n",
    "    IMAGES_PER_GPU = 2\n",
    " \n",
    "    # number of classes (we would normally add +1 for the background)\n",
    "     # kangaroo + BG\n",
    "    NUM_CLASSES = 1+10\n",
    "   \n",
    "    # Number of training steps per epoch\n",
    "    STEPS_PER_EPOCH = 8750 #(tatal train images 8750 divided by batch_size)\n",
    "    \n",
    "    # Learning rate\n",
    "    LEARNING_RATE=0.001\n",
    "    \n",
    "    # Skip detections with < 90% confidence\n",
    "    DETECTION_MIN_CONFIDENCE = 0.8\n",
    "    \n",
    "    # setting Max ground truth instances\n",
    "    MAX_GT_INSTANCES=10"
   ]
  },
  {
   "cell_type": "code",
   "execution_count": null,
   "id": "cdd416f9",
   "metadata": {},
   "outputs": [],
   "source": [
    "config= myMaskRCNNConfig()"
   ]
  },
  {
   "cell_type": "code",
   "execution_count": null,
   "id": "605c9473",
   "metadata": {},
   "outputs": [],
   "source": [
    "# initialize the Mask R-CNN model for inference \n",
    "print(\"Loading Mask R-CNN model...\")\n",
    "model = modellib.MaskRCNN(mode=\"training\", config=config, model_dir='./')"
   ]
  },
  {
   "cell_type": "code",
   "execution_count": null,
   "id": "a33d37f3",
   "metadata": {},
   "outputs": [],
   "source": [
    "def get_ax(rows=1, cols=1, size=16):\n",
    "    _, ax = pyplot.subplots(rows, cols, figsize=(size*cols, size*rows))\n",
    "    return ax"
   ]
  },
  {
   "cell_type": "code",
   "execution_count": null,
   "id": "f0194cbd",
   "metadata": {},
   "outputs": [],
   "source": [
    "model_path = 'trained.model/trained.CFSEG.h5'\n",
    "\n",
    "# Override the training configurations with a few\n",
    "# changes for inferencing.\n",
    "class InferenceConfig(config.__class__):\n",
    "    # Run detection on one image at a time\n",
    "    GPU_COUNT = 1\n",
    "    IMAGES_PER_GPU = 1\n",
    "    DETECTION_MIN_CONFIDENCE = 0.70\n",
    "\n",
    "config = InferenceConfig()\n",
    "config.display()\n",
    "\n",
    "#Loading the model in the inference mode\n",
    "model = modellib.MaskRCNN(mode=\"inference\", config=config, model_dir='./')\n",
    "\n",
    "# loading the trained weights o the custom dataset\n",
    "model.load_weights(model_path, by_name=True)"
   ]
  },
  {
   "cell_type": "code",
   "execution_count": null,
   "id": "431f043d",
   "metadata": {
    "scrolled": false
   },
   "outputs": [],
   "source": [
    "imgs_location = \"test.image/\"\n",
    "input_img = os.listdir(imgs_location)\n",
    "# print(input_img)\n",
    "for img in input_img:\n",
    "    print(\"image name: \" ,img)\n",
    "    image = load_img(imgs_location+img)\n",
    "    image = img_to_array(image)\n",
    "    class_names = ['BG', 'Right_Index', 'Right_Middle', 'Right_Ring', 'Right_Little', 'Left_Index', 'Left_Middle', 'Left_Ring', 'Left_Little', 'Right_Thumb', 'Left_Thumb']\n",
    "\n",
    "    # Run object detection\n",
    "    results = model.detect([image], verbose=1)\n",
    "    #print(\"results: \" ,results)\n",
    "    # Display results\n",
    "    # a = model.keras_model.evaluate([image], verbose=1)\n",
    "\n",
    "    r = results[0]\n",
    "#     print(results[0].get(\"rois\"))\n",
    "#     print(results[0].get(\"class_ids\"))\n",
    "#     print(results[0].get(\"scores\"))\n",
    "\n",
    "    #print(\"results: \" , r)\n",
    "    #find_best_result_index(r)\n",
    "    visualize.display_instances(image, r['rois'], r['masks'], r['class_ids'], \n",
    "                                class_names, r['scores'],\n",
    "                                title=\"Predictions\", ax=get_ax())"
   ]
  },
  {
   "cell_type": "code",
   "execution_count": null,
   "id": "b9424233",
   "metadata": {},
   "outputs": [],
   "source": [
    "input_img = \"/home/murshed/phd/git_research/ftsegment/datasets/fingerprint/contactless/spoof/005_T1_L13.jpg\"\n",
    "\n",
    "image = load_img(input_img)\n",
    "image = img_to_array(image)\n",
    "class_names = ['BG', 'Right_Index', 'Right_Middle', 'Right_Ring', 'Right_Little', 'Left_Index', 'Left_Middle', 'Left_Ring', 'Left_Little', 'Right_Thumb', 'Left_Thumb']\n",
    "\n",
    "# Run object detection\n",
    "results = model.detect([image], verbose=1)\n",
    "#print(\"results: \" ,results)\n",
    "# Display results\n",
    "# a = model.keras_model.evaluate([image], verbose=1)\n",
    "\n",
    "r = results[0]\n",
    "#     print(results[0].get(\"rois\"))\n",
    "#     print(results[0].get(\"class_ids\"))\n",
    "#     print(results[0].get(\"scores\"))\n",
    "\n",
    "#print(\"results: \" , r)\n",
    "#find_best_result_index(r)\n",
    "visualize.display_instances(image, r['rois'], r['masks'], r['class_ids'], \n",
    "                            class_names, r['scores'],\n",
    "                            title=\"Predictions\", ax=get_ax())"
   ]
  },
  {
   "cell_type": "code",
   "execution_count": null,
   "id": "3860cc78",
   "metadata": {},
   "outputs": [],
   "source": []
  },
  {
   "cell_type": "code",
   "execution_count": null,
   "id": "9f9d0f6a",
   "metadata": {},
   "outputs": [],
   "source": []
  }
 ],
 "metadata": {
  "kernelspec": {
   "display_name": "Python 3",
   "language": "python",
   "name": "python3"
  },
  "language_info": {
   "codemirror_mode": {
    "name": "ipython",
    "version": 3
   },
   "file_extension": ".py",
   "mimetype": "text/x-python",
   "name": "python",
   "nbconvert_exporter": "python",
   "pygments_lexer": "ipython3",
   "version": "3.7.9"
  }
 },
 "nbformat": 4,
 "nbformat_minor": 5
}
